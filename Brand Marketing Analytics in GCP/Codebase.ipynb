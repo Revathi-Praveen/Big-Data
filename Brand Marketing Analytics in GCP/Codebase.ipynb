{
 "cells": [
  {
   "cell_type": "markdown",
   "id": "2666136b",
   "metadata": {},
   "source": [
    "# Module Import"
   ]
  },
  {
   "cell_type": "code",
   "execution_count": 1,
   "id": "f6569c38",
   "metadata": {},
   "outputs": [],
   "source": [
    "import warnings\n",
    "warnings.filterwarnings('ignore')\n",
    "import pandas as pd"
   ]
  },
  {
   "cell_type": "markdown",
   "id": "75ed871b",
   "metadata": {},
   "source": [
    "# Data Pull using Kaggle API"
   ]
  },
  {
   "cell_type": "code",
   "execution_count": 4,
   "id": "c969ecef",
   "metadata": {},
   "outputs": [],
   "source": [
    "# Needs api files .kaggle location\n",
    "import kaggle"
   ]
  },
  {
   "cell_type": "code",
   "execution_count": 5,
   "id": "11a3aadd",
   "metadata": {},
   "outputs": [],
   "source": [
    "from kaggle.api.kaggle_api_extended import KaggleApi"
   ]
  },
  {
   "cell_type": "code",
   "execution_count": 6,
   "id": "30e4fb71",
   "metadata": {},
   "outputs": [],
   "source": [
    "api=KaggleApi()\n",
    "api.authenticate()"
   ]
  },
  {
   "cell_type": "code",
   "execution_count": 7,
   "id": "1650747f",
   "metadata": {},
   "outputs": [
    {
     "data": {
      "text/plain": [
       "False"
      ]
     },
     "execution_count": 7,
     "metadata": {},
     "output_type": "execute_result"
    }
   ],
   "source": [
    "api.dataset_download_file('mkechinov/ecommerce-behavior-data-from-multi-category-store',file_name='2019-Nov.csv')\n",
    "# True output means api is called and data is saved in a zipped format in the same location"
   ]
  },
  {
   "cell_type": "code",
   "execution_count": 8,
   "id": "37a53fb8",
   "metadata": {},
   "outputs": [],
   "source": [
    "import zipfile"
   ]
  },
  {
   "cell_type": "code",
   "execution_count": 9,
   "id": "844b219e",
   "metadata": {},
   "outputs": [],
   "source": [
    "with zipfile.ZipFile('2019-Nov.csv.zip','r') as zipref:\n",
    "    zipref.extractall()"
   ]
  },
  {
   "cell_type": "code",
   "execution_count": 2,
   "id": "8e51ff83",
   "metadata": {},
   "outputs": [],
   "source": [
    "import pandas as pd\n",
    "data = pd.read_csv('2019-Nov.csv')"
   ]
  },
  {
   "cell_type": "code",
   "execution_count": 11,
   "id": "7d43de9d",
   "metadata": {},
   "outputs": [
    {
     "data": {
      "text/html": [
       "<div>\n",
       "<style scoped>\n",
       "    .dataframe tbody tr th:only-of-type {\n",
       "        vertical-align: middle;\n",
       "    }\n",
       "\n",
       "    .dataframe tbody tr th {\n",
       "        vertical-align: top;\n",
       "    }\n",
       "\n",
       "    .dataframe thead th {\n",
       "        text-align: right;\n",
       "    }\n",
       "</style>\n",
       "<table border=\"1\" class=\"dataframe\">\n",
       "  <thead>\n",
       "    <tr style=\"text-align: right;\">\n",
       "      <th></th>\n",
       "      <th>event_time</th>\n",
       "      <th>event_type</th>\n",
       "      <th>product_id</th>\n",
       "      <th>category_id</th>\n",
       "      <th>category_code</th>\n",
       "      <th>brand</th>\n",
       "      <th>price</th>\n",
       "      <th>user_id</th>\n",
       "      <th>user_session</th>\n",
       "    </tr>\n",
       "  </thead>\n",
       "  <tbody>\n",
       "    <tr>\n",
       "      <th>0</th>\n",
       "      <td>2019-11-01 00:00:00 UTC</td>\n",
       "      <td>view</td>\n",
       "      <td>1003461</td>\n",
       "      <td>2053013555631882655</td>\n",
       "      <td>electronics.smartphone</td>\n",
       "      <td>xiaomi</td>\n",
       "      <td>489.07</td>\n",
       "      <td>520088904</td>\n",
       "      <td>4d3b30da-a5e4-49df-b1a8-ba5943f1dd33</td>\n",
       "    </tr>\n",
       "    <tr>\n",
       "      <th>1</th>\n",
       "      <td>2019-11-01 00:00:00 UTC</td>\n",
       "      <td>view</td>\n",
       "      <td>5000088</td>\n",
       "      <td>2053013566100866035</td>\n",
       "      <td>appliances.sewing_machine</td>\n",
       "      <td>janome</td>\n",
       "      <td>293.65</td>\n",
       "      <td>530496790</td>\n",
       "      <td>8e5f4f83-366c-4f70-860e-ca7417414283</td>\n",
       "    </tr>\n",
       "  </tbody>\n",
       "</table>\n",
       "</div>"
      ],
      "text/plain": [
       "                event_time event_type  product_id          category_id  \\\n",
       "0  2019-11-01 00:00:00 UTC       view     1003461  2053013555631882655   \n",
       "1  2019-11-01 00:00:00 UTC       view     5000088  2053013566100866035   \n",
       "\n",
       "               category_code   brand   price    user_id  \\\n",
       "0     electronics.smartphone  xiaomi  489.07  520088904   \n",
       "1  appliances.sewing_machine  janome  293.65  530496790   \n",
       "\n",
       "                           user_session  \n",
       "0  4d3b30da-a5e4-49df-b1a8-ba5943f1dd33  \n",
       "1  8e5f4f83-366c-4f70-860e-ca7417414283  "
      ]
     },
     "execution_count": 11,
     "metadata": {},
     "output_type": "execute_result"
    }
   ],
   "source": [
    "data.head(2)"
   ]
  },
  {
   "cell_type": "code",
   "execution_count": 12,
   "id": "6558475c",
   "metadata": {},
   "outputs": [
    {
     "data": {
      "text/plain": [
       "event_time       [2019-11-01 00:00:00 UTC, 2019-11-01 00:00:01 ...\n",
       "event_type                                  [view, cart, purchase]\n",
       "product_id       [1003461, 5000088, 17302664, 3601530, 1004775,...\n",
       "category_id      [2053013555631882655, 2053013566100866035, 205...\n",
       "category_code    [electronics.smartphone, appliances.sewing_mac...\n",
       "brand            [xiaomi, janome, creed, lg, hp, rondell, miche...\n",
       "price            [489.07, 293.65, 28.31, 712.87, 183.27, 360.09...\n",
       "user_id          [520088904, 530496790, 561587266, 518085591, 5...\n",
       "user_session     [4d3b30da-a5e4-49df-b1a8-ba5943f1dd33, 8e5f4f8...\n",
       "dtype: object"
      ]
     },
     "execution_count": 12,
     "metadata": {},
     "output_type": "execute_result"
    }
   ],
   "source": [
    "data.apply(lambda x: x.unique())"
   ]
  },
  {
   "cell_type": "code",
   "execution_count": 13,
   "id": "5b7291d2",
   "metadata": {},
   "outputs": [
    {
     "data": {
      "text/plain": [
       "event_time        2549559\n",
       "event_type              3\n",
       "product_id         190662\n",
       "category_id           684\n",
       "category_code         129\n",
       "brand                4200\n",
       "price               60435\n",
       "user_id           3696117\n",
       "user_session     13776050\n",
       "dtype: int64"
      ]
     },
     "execution_count": 13,
     "metadata": {},
     "output_type": "execute_result"
    }
   ],
   "source": [
    "data.nunique()"
   ]
  },
  {
   "cell_type": "code",
   "execution_count": 74,
   "id": "cb9e6d67",
   "metadata": {},
   "outputs": [],
   "source": [
    "# data.groupby('brand').count()"
   ]
  },
  {
   "cell_type": "code",
   "execution_count": 3,
   "id": "1194557a",
   "metadata": {},
   "outputs": [],
   "source": [
    "xiami=data[data['brand']=='aardwolf']"
   ]
  },
  {
   "cell_type": "code",
   "execution_count": 4,
   "id": "6af63d20",
   "metadata": {},
   "outputs": [],
   "source": [
    "xiami.to_csv('data.csv')"
   ]
  },
  {
   "cell_type": "code",
   "execution_count": 75,
   "id": "9e6da119",
   "metadata": {},
   "outputs": [
    {
     "data": {
      "text/plain": [
       "478"
      ]
     },
     "execution_count": 75,
     "metadata": {},
     "output_type": "execute_result"
    }
   ],
   "source": [
    "len(xiami)"
   ]
  },
  {
   "cell_type": "code",
   "execution_count": 76,
   "id": "f18d97af",
   "metadata": {},
   "outputs": [
    {
     "data": {
      "text/plain": [
       "event_time       [2019-11-02 02:38:36 UTC, 2019-11-02 14:57:53 ...\n",
       "event_type                                  [view, cart, purchase]\n",
       "product_id       [30901103, 30901021, 30900236, 30900483, 30900...\n",
       "category_id                                  [2053013554004492609]\n",
       "category_code                        [computers.components.cooler]\n",
       "brand                                                   [aardwolf]\n",
       "price            [79.15, 8.98, 25.35, 13.8, 35.14, 23.46, 23.3,...\n",
       "user_id          [560959712, 524336628, 519283040, 519208780, 5...\n",
       "user_session     [9d5757b3-f041-4e2d-aa06-2774750a8eba, 97bafe6...\n",
       "dtype: object"
      ]
     },
     "execution_count": 76,
     "metadata": {},
     "output_type": "execute_result"
    }
   ],
   "source": [
    "xiami.apply(lambda x: x.unique())"
   ]
  },
  {
   "cell_type": "code",
   "execution_count": 77,
   "id": "060bcd07",
   "metadata": {
    "scrolled": false
   },
   "outputs": [
    {
     "data": {
      "text/plain": [
       "event_time       477\n",
       "event_type         3\n",
       "product_id         9\n",
       "category_id        1\n",
       "category_code      1\n",
       "brand              1\n",
       "price             21\n",
       "user_id          175\n",
       "user_session     272\n",
       "dtype: int64"
      ]
     },
     "execution_count": 77,
     "metadata": {},
     "output_type": "execute_result"
    }
   ],
   "source": [
    "xiami.nunique()"
   ]
  },
  {
   "cell_type": "markdown",
   "id": "17b112f9",
   "metadata": {},
   "source": [
    "# Data Cleaning & Manipulation checks in python "
   ]
  },
  {
   "cell_type": "code",
   "execution_count": 78,
   "id": "f14b3350",
   "metadata": {},
   "outputs": [],
   "source": [
    "xiami.dropna(axis=0,inplace=True)"
   ]
  },
  {
   "cell_type": "code",
   "execution_count": 79,
   "id": "7809bccc",
   "metadata": {},
   "outputs": [
    {
     "data": {
      "text/plain": [
       "478"
      ]
     },
     "execution_count": 79,
     "metadata": {},
     "output_type": "execute_result"
    }
   ],
   "source": [
    "len(xiami)"
   ]
  },
  {
   "cell_type": "code",
   "execution_count": 80,
   "id": "4aa76726",
   "metadata": {},
   "outputs": [
    {
     "data": {
      "text/plain": [
       "event_time       0\n",
       "event_type       0\n",
       "product_id       0\n",
       "category_id      0\n",
       "category_code    0\n",
       "brand            0\n",
       "price            0\n",
       "user_id          0\n",
       "user_session     0\n",
       "dtype: int64"
      ]
     },
     "execution_count": 80,
     "metadata": {},
     "output_type": "execute_result"
    }
   ],
   "source": [
    "xiami.isna().sum()"
   ]
  },
  {
   "cell_type": "code",
   "execution_count": 81,
   "id": "d83454ea",
   "metadata": {},
   "outputs": [
    {
     "data": {
      "text/plain": [
       "event_time        object\n",
       "event_type        object\n",
       "product_id         int64\n",
       "category_id        int64\n",
       "category_code     object\n",
       "brand             object\n",
       "price            float64\n",
       "user_id            int64\n",
       "user_session      object\n",
       "dtype: object"
      ]
     },
     "execution_count": 81,
     "metadata": {},
     "output_type": "execute_result"
    }
   ],
   "source": [
    "xiami.dtypes"
   ]
  },
  {
   "cell_type": "markdown",
   "id": "dcad7021",
   "metadata": {},
   "source": [
    "Drop:\n",
    "1) brand\n",
    "\n",
    "\n",
    "Manipulations:\n",
    "1) Category code map to unknown\n",
    "2) extract date from event_time\n",
    "3) event_type-> proper format\n",
    "4) extract part of category code\n",
    "\n",
    "\n",
    "- Select only the relevant columns\n",
    "- Take distinct rows from that\n",
    "- aggregate to event_date, category_code level views, add to carts, purchasers, purchases, price"
   ]
  },
  {
   "cell_type": "code",
   "execution_count": 82,
   "id": "58f5914e",
   "metadata": {},
   "outputs": [],
   "source": [
    "xiami=xiami[['event_time','event_type','category_code','product_id','price','user_id']].drop_duplicates()"
   ]
  },
  {
   "cell_type": "code",
   "execution_count": 83,
   "id": "a47baa9c",
   "metadata": {},
   "outputs": [],
   "source": [
    "def str_dot_index(text):\n",
    "    return(text[text.find('.')+1:])\n",
    "\n",
    "def first_half(text):\n",
    "    return(text[:text.find('.')])"
   ]
  },
  {
   "cell_type": "code",
   "execution_count": 84,
   "id": "09646059",
   "metadata": {},
   "outputs": [],
   "source": [
    "xiami['category']=xiami['category_code'].apply(first_half)\n",
    "xiami['subcategory']=xiami['category_code'].apply(str_dot_index)"
   ]
  },
  {
   "cell_type": "code",
   "execution_count": 85,
   "id": "7683482d",
   "metadata": {},
   "outputs": [],
   "source": [
    "xiami['event_date']=pd.to_datetime(xiami['event_time'],format='%Y-%m-%d %H:%M:%S UTC')"
   ]
  },
  {
   "cell_type": "code",
   "execution_count": 86,
   "id": "8a1d6091",
   "metadata": {},
   "outputs": [],
   "source": [
    "xiami['event_date']=xiami['event_date'].apply(lambda x:x.date())"
   ]
  },
  {
   "cell_type": "code",
   "execution_count": 87,
   "id": "b541436a",
   "metadata": {},
   "outputs": [],
   "source": [
    "xiami.drop(['category_code','event_time'],axis=1,inplace=True)"
   ]
  },
  {
   "cell_type": "code",
   "execution_count": 88,
   "id": "25599119",
   "metadata": {},
   "outputs": [
    {
     "data": {
      "text/plain": [
       "478"
      ]
     },
     "execution_count": 88,
     "metadata": {},
     "output_type": "execute_result"
    }
   ],
   "source": [
    "len(xiami)"
   ]
  },
  {
   "cell_type": "code",
   "execution_count": 89,
   "id": "b9ca67d1",
   "metadata": {},
   "outputs": [
    {
     "data": {
      "text/plain": [
       "286"
      ]
     },
     "execution_count": 89,
     "metadata": {},
     "output_type": "execute_result"
    }
   ],
   "source": [
    "len(xiami.drop_duplicates())"
   ]
  },
  {
   "cell_type": "code",
   "execution_count": 91,
   "id": "34e5673e",
   "metadata": {},
   "outputs": [
    {
     "data": {
      "text/plain": [
       "event_type                                [view, cart, purchase]\n",
       "product_id     [30901103, 30901021, 30900236, 30900483, 30900...\n",
       "price          [79.15, 8.98, 25.35, 13.8, 35.14, 23.46, 23.3,...\n",
       "user_id        [560959712, 524336628, 519283040, 519208780, 5...\n",
       "category                                             [computers]\n",
       "subcategory                                  [components.cooler]\n",
       "event_date     [2019-11-02, 2019-11-03, 2019-11-06, 2019-11-0...\n",
       "dtype: object"
      ]
     },
     "execution_count": 91,
     "metadata": {},
     "output_type": "execute_result"
    }
   ],
   "source": [
    "xiami.apply(lambda x: x.unique())"
   ]
  },
  {
   "cell_type": "code",
   "execution_count": 93,
   "id": "ded5e8f3",
   "metadata": {},
   "outputs": [],
   "source": [
    "data=xiami.drop('price',axis=1).drop_duplicates()"
   ]
  },
  {
   "cell_type": "code",
   "execution_count": 94,
   "id": "1cb77834",
   "metadata": {},
   "outputs": [],
   "source": [
    "product_price=xiami[['product_id','price']].drop_duplicates()"
   ]
  },
  {
   "cell_type": "code",
   "execution_count": 95,
   "id": "edc921ba",
   "metadata": {},
   "outputs": [],
   "source": [
    "data.to_csv('data.csv',index=False)"
   ]
  },
  {
   "cell_type": "code",
   "execution_count": 96,
   "id": "2df407fa",
   "metadata": {},
   "outputs": [],
   "source": [
    "product_price.to_csv('price.csv',index=False)"
   ]
  },
  {
   "cell_type": "markdown",
   "id": "9f60fd22",
   "metadata": {},
   "source": [
    "# Code validation to convert python ETL commands to PySpark"
   ]
  },
  {
   "cell_type": "code",
   "execution_count": 18,
   "id": "f68b23a5",
   "metadata": {},
   "outputs": [],
   "source": [
    "from pyspark.sql import SparkSession\n",
    "from pyspark.sql.functions import udf, col, to_date\n",
    "from pyspark.sql.types import StringType, DateType"
   ]
  },
  {
   "cell_type": "code",
   "execution_count": 19,
   "id": "ff731c6c",
   "metadata": {},
   "outputs": [],
   "source": [
    "spark = SparkSession.builder.appName('KaggleDataETL').getOrCreate()\n",
    "\n",
    "# Assuming the data file is in the same location as the script\n",
    "data = spark.read.csv(r\"C:\\Users\\Revathi P\\Documents\\Full time Prep\\Company wise prep\\Walmart\\Manager\\Experiment codes\\Kaggle API\\2019-Nov.csv\", header=True, inferSchema=True)"
   ]
  },
  {
   "cell_type": "code",
   "execution_count": 7,
   "id": "e8618983",
   "metadata": {},
   "outputs": [],
   "source": [
    "# Filter rows where brand is 'aardwolf' and drop rows with null values\n",
    "xiami = data.filter(data['brand'] == 'aardwolf').na.drop()"
   ]
  },
  {
   "cell_type": "code",
   "execution_count": 8,
   "id": "866d6d8e",
   "metadata": {},
   "outputs": [],
   "source": [
    "# Selecting specific columns and removing duplicates\n",
    "xiami = xiami.select('event_time', 'event_type', 'category_code', 'product_id', 'price', 'user_id').dropDuplicates()"
   ]
  },
  {
   "cell_type": "code",
   "execution_count": 9,
   "id": "e70c0fa9",
   "metadata": {},
   "outputs": [],
   "source": [
    "# Define UDFs for category and subcategory\n",
    "def first_half(text):\n",
    "    return text.split('.')[0] if text else None\n",
    "\n",
    "def str_dot_index(text):\n",
    "    return text.split('.')[1] if text and '.' in text else None\n",
    "\n",
    "first_half_udf = udf(first_half, StringType())\n",
    "str_dot_index_udf = udf(str_dot_index, StringType())"
   ]
  },
  {
   "cell_type": "code",
   "execution_count": 10,
   "id": "a828c36e",
   "metadata": {},
   "outputs": [],
   "source": [
    "# Applying UDFs\n",
    "xiami = xiami.withColumn('category', first_half_udf(col('category_code'))) \\\n",
    "             .withColumn('subcategory', str_dot_index_udf(col('category_code')))"
   ]
  },
  {
   "cell_type": "code",
   "execution_count": 11,
   "id": "7d36faa8",
   "metadata": {},
   "outputs": [],
   "source": [
    "# Convert event_time to date\n",
    "xiami = xiami.withColumn('event_date', to_date(col('event_time'), 'yyyy-MM-dd HH:mm:ss UTC'))"
   ]
  },
  {
   "cell_type": "code",
   "execution_count": 12,
   "id": "d68060a4",
   "metadata": {},
   "outputs": [],
   "source": [
    "# Drop unnecessary columns\n",
    "xiami = xiami.drop('category_code', 'event_time')"
   ]
  },
  {
   "cell_type": "code",
   "execution_count": 13,
   "id": "83ae5e41",
   "metadata": {},
   "outputs": [],
   "source": [
    "# Prepare the final data DataFrame\n",
    "data = xiami.drop('price').dropDuplicates()"
   ]
  },
  {
   "cell_type": "code",
   "execution_count": 14,
   "id": "1b4b9b7c",
   "metadata": {},
   "outputs": [],
   "source": [
    "# Prepare product_price DataFrame\n",
    "product_price = xiami.select('product_id', 'price').dropDuplicates()"
   ]
  },
  {
   "cell_type": "markdown",
   "id": "c86c9259",
   "metadata": {},
   "source": [
    "# Querying big query tables using BigQuery API"
   ]
  },
  {
   "cell_type": "code",
   "execution_count": 7,
   "id": "025c9e3d",
   "metadata": {},
   "outputs": [],
   "source": [
    "# !pip install google-cloud-bigquery"
   ]
  },
  {
   "cell_type": "code",
   "execution_count": 2,
   "id": "b6e23144",
   "metadata": {},
   "outputs": [],
   "source": [
    "import os\n",
    "from google.cloud import bigquery"
   ]
  },
  {
   "cell_type": "code",
   "execution_count": 3,
   "id": "4717517c",
   "metadata": {},
   "outputs": [],
   "source": [
    "os.environ['GOOGLE_APPLICATION_CREDENTIALS']=\"applied-groove-405905-09c24ef39226.json\""
   ]
  },
  {
   "cell_type": "code",
   "execution_count": 4,
   "id": "2c3e4fd1",
   "metadata": {},
   "outputs": [],
   "source": [
    "client=bigquery.Client()"
   ]
  },
  {
   "cell_type": "code",
   "execution_count": 5,
   "id": "f5fc134b",
   "metadata": {},
   "outputs": [],
   "source": [
    "sql_query=\"\"\"\n",
    "SELECT * FROM `applied-groove-405905.Airflow_Test.product_price`\n",
    "\"\"\""
   ]
  },
  {
   "cell_type": "code",
   "execution_count": 6,
   "id": "0b8e4544",
   "metadata": {},
   "outputs": [],
   "source": [
    "query_job=client.query(sql_query)"
   ]
  },
  {
   "cell_type": "code",
   "execution_count": 7,
   "id": "22a27328",
   "metadata": {},
   "outputs": [],
   "source": [
    "# !pip install db-dtypes"
   ]
  },
  {
   "cell_type": "code",
   "execution_count": 10,
   "id": "eb7f25c3",
   "metadata": {},
   "outputs": [],
   "source": [
    "product_price=query_job.to_dataframe()"
   ]
  },
  {
   "cell_type": "code",
   "execution_count": 11,
   "id": "c819fe66",
   "metadata": {},
   "outputs": [
    {
     "data": {
      "text/plain": [
       "pandas.core.frame.DataFrame"
      ]
     },
     "execution_count": 11,
     "metadata": {},
     "output_type": "execute_result"
    }
   ],
   "source": [
    "type(product_price)"
   ]
  },
  {
   "cell_type": "code",
   "execution_count": 12,
   "id": "b17eb5cc",
   "metadata": {},
   "outputs": [
    {
     "data": {
      "text/html": [
       "<div>\n",
       "<style scoped>\n",
       "    .dataframe tbody tr th:only-of-type {\n",
       "        vertical-align: middle;\n",
       "    }\n",
       "\n",
       "    .dataframe tbody tr th {\n",
       "        vertical-align: top;\n",
       "    }\n",
       "\n",
       "    .dataframe thead th {\n",
       "        text-align: right;\n",
       "    }\n",
       "</style>\n",
       "<table border=\"1\" class=\"dataframe\">\n",
       "  <thead>\n",
       "    <tr style=\"text-align: right;\">\n",
       "      <th></th>\n",
       "      <th>product_id</th>\n",
       "      <th>price</th>\n",
       "    </tr>\n",
       "  </thead>\n",
       "  <tbody>\n",
       "    <tr>\n",
       "      <th>0</th>\n",
       "      <td>30900483</td>\n",
       "      <td>13.80</td>\n",
       "    </tr>\n",
       "    <tr>\n",
       "      <th>1</th>\n",
       "      <td>30900483</td>\n",
       "      <td>13.77</td>\n",
       "    </tr>\n",
       "  </tbody>\n",
       "</table>\n",
       "</div>"
      ],
      "text/plain": [
       "   product_id  price\n",
       "0    30900483  13.80\n",
       "1    30900483  13.77"
      ]
     },
     "execution_count": 12,
     "metadata": {},
     "output_type": "execute_result"
    }
   ],
   "source": [
    "product_price.head(2)"
   ]
  },
  {
   "cell_type": "markdown",
   "id": "68f07c17",
   "metadata": {},
   "source": [
    "# Emailing using SMTP API"
   ]
  },
  {
   "cell_type": "code",
   "execution_count": 9,
   "id": "4a809175",
   "metadata": {},
   "outputs": [
    {
     "data": {
      "text/plain": [
       "(235, b'2.7.0 Accepted')"
      ]
     },
     "execution_count": 9,
     "metadata": {},
     "output_type": "execute_result"
    }
   ],
   "source": [
    "import smtplib\n",
    "server=smtplib.SMTP('smtp.gmail.com',587)\n",
    "server.starttls()\n",
    "server.login('b.revathycool@gmail.com','apnr frik hyqg soas')"
   ]
  },
  {
   "cell_type": "code",
   "execution_count": 17,
   "id": "988818be",
   "metadata": {},
   "outputs": [
    {
     "name": "stdout",
     "output_type": "stream",
     "text": [
      "Mail sent!\n"
     ]
    }
   ],
   "source": [
    "server.sendmail(\n",
    "    'b.revathycool@gmail.com',\n",
    "    'revathi.boopathi15081995@gmail.com',\n",
    "    f'Product ID {product_price[\"product_id\"][2]} is {product_price[\"price\"][2]}'\n",
    ")\n",
    "print('Mail sent!')\n"
   ]
  },
  {
   "cell_type": "code",
   "execution_count": null,
   "id": "e35f8b49",
   "metadata": {},
   "outputs": [],
   "source": []
  }
 ],
 "metadata": {
  "kernelspec": {
   "display_name": "Python 3 (ipykernel)",
   "language": "python",
   "name": "python3"
  },
  "language_info": {
   "codemirror_mode": {
    "name": "ipython",
    "version": 3
   },
   "file_extension": ".py",
   "mimetype": "text/x-python",
   "name": "python",
   "nbconvert_exporter": "python",
   "pygments_lexer": "ipython3",
   "version": "3.11.5"
  }
 },
 "nbformat": 4,
 "nbformat_minor": 5
}
